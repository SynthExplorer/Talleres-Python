{
  "nbformat": 4,
  "nbformat_minor": 0,
  "metadata": {
    "colab": {
      "provenance": [],
      "authorship_tag": "ABX9TyMxMmnCvitqADj9Ti/OWA3z",
      "include_colab_link": true
    },
    "kernelspec": {
      "name": "python3",
      "display_name": "Python 3"
    },
    "language_info": {
      "name": "python"
    }
  },
  "cells": [
    {
      "cell_type": "markdown",
      "metadata": {
        "id": "view-in-github",
        "colab_type": "text"
      },
      "source": [
        "<a href=\"https://colab.research.google.com/github/SynthExplorer/Talleres-Python/blob/main/Ejercicio_N%C2%B0_1.ipynb\" target=\"_parent\"><img src=\"https://colab.research.google.com/assets/colab-badge.svg\" alt=\"Open In Colab\"/></a>"
      ]
    },
    {
      "cell_type": "code",
      "execution_count": 8,
      "metadata": {
        "colab": {
          "base_uri": "https://localhost:8080/"
        },
        "id": "m7OVpnO2jCRt",
        "outputId": "5aa24b5c-9905-4b39-8387-a3c60672d5f3"
      },
      "outputs": [
        {
          "output_type": "stream",
          "name": "stdout",
          "text": [
            "======\n",
            "Códigos de - Departamentos -\n",
            "====== \n",
            "\n",
            "Por favor, ingresa tu nombre :3 \n",
            "Sarah\n",
            "Bienvenido/a, Sarah. Por favor, elige un código de Departamento \n",
            "\n",
            "-- 1 -- Dpto de Atención al Cliente \n",
            "-- 2 -- Dpto de Logística \n",
            "-- 3 -- Dpto de Gerencia \n",
            "\n",
            "\n",
            "Ingresa un cóidgo --- \n",
            "3\n",
            "Welcome to de customer management department \n",
            "\n",
            "Ingresa los años de servicio en este departamento :3 \n",
            "5\n",
            "Sarah, cuentas con 20 días de vacaciones\n"
          ]
        }
      ],
      "source": [
        "print(\"======\")\n",
        "print(\"Códigos de - Departamentos -\")\n",
        "print(\"====== \\n\")\n",
        "\n",
        "Nombre = input(\"Por favor, ingresa tu nombre :3 \\n\")\n",
        "\n",
        "print(f\"Bienvenido/a, {Nombre}. Por favor, elige un código de Departamento \\n\")\n",
        "\n",
        "print(\"-- 1 -- Dpto de Atención al Cliente \")\n",
        "print(\"-- 2 -- Dpto de Logística \")\n",
        "print(\"-- 3 -- Dpto de Gerencia \")\n",
        "\n",
        "print(\"\\n\")\n",
        "\n",
        "Código_Elegido = int(input(\"Ingresa un cóidgo --- \\n\"))\n",
        "\n",
        "if Código_Elegido == 1:\n",
        "  print(\"Welcome to de customer service department \\n\")\n",
        "\n",
        "  Tiempo_Servicio = int(input(\"Ingresa los años de servicio en este departamento :3 \\n\"))\n",
        "\n",
        "  if Tiempo_Servicio == 1:\n",
        "    print(f\"{Nombre}, cuentas con 6 días de vacaciones\")\n",
        "\n",
        "  elif (Tiempo_Servicio >= 2) and (Tiempo_Servicio) <= 6:\n",
        "    print(f\"{Nombre}, cuentas con 14 días de vacaciones\")\n",
        "\n",
        "  elif Tiempo_Servicio >= 7:\n",
        "    print(f\"{Nombre}, cuentas con 20 días de vacaciones\")\n",
        "\n",
        "\n",
        "if Código_Elegido == 2:\n",
        "  print(\"Welcome to de customer logistics department \\n\")\n",
        "\n",
        "  Tiempo_Servicio = int(input(\"Ingresa los años de servicio en este departamento :3 \\n\"))\n",
        "\n",
        "  if Tiempo_Servicio == 1:\n",
        "    print(f\"{Nombre}, cuentas con 7 días de vacaciones\")\n",
        "\n",
        "  elif (Tiempo_Servicio >= 2) and (Tiempo_Servicio <= 6):\n",
        "    print(f\"{Nombre}, cuentas con 15 días de vacaciones\")\n",
        "\n",
        "  elif Tiempo_Servicio >= 7:\n",
        "    print(f\"{Nombre}, cuentas con 22 días de vacaciones\")\n",
        "\n",
        "\n",
        "if Código_Elegido == 3:\n",
        "  print(\"Welcome to de customer management department \\n\")\n",
        "\n",
        "  Tiempo_Servicio = int(input(\"Ingresa los años de servicio en este departamento :3 \\n\"))\n",
        "\n",
        "  if Tiempo_Servicio == 1:\n",
        "    print(f\"{Nombre}, cuentas con 10 días de vacaciones\")\n",
        "\n",
        "  elif (Tiempo_Servicio >= 2) and (Tiempo_Servicio <= 6):\n",
        "    print(f\"{Nombre}, cuentas con 20 días de vacaciones\")\n",
        "\n",
        "  elif Tiempo_Servicio >= 7:\n",
        "    print(f\"{Nombre}, cuentas con 30 días de vacaciones\")\n",
        "\n",
        "\n",
        "if  Código_Elegido not in [1, 2 , 3]:\n",
        "  print(\"El código elegido no está disponible\")\n"
      ]
    }
  ]
}