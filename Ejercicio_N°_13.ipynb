{
  "nbformat": 4,
  "nbformat_minor": 0,
  "metadata": {
    "colab": {
      "provenance": [],
      "authorship_tag": "ABX9TyOKFzOp44riHVjKn0AGAU7N",
      "include_colab_link": true
    },
    "kernelspec": {
      "name": "python3",
      "display_name": "Python 3"
    },
    "language_info": {
      "name": "python"
    }
  },
  "cells": [
    {
      "cell_type": "markdown",
      "metadata": {
        "id": "view-in-github",
        "colab_type": "text"
      },
      "source": [
        "<a href=\"https://colab.research.google.com/github/SynthExplorer/Talleres-Python/blob/main/Ejercicio_N%C2%B0_13.ipynb\" target=\"_parent\"><img src=\"https://colab.research.google.com/assets/colab-badge.svg\" alt=\"Open In Colab\"/></a>"
      ]
    },
    {
      "cell_type": "code",
      "execution_count": 8,
      "metadata": {
        "colab": {
          "base_uri": "https://localhost:8080/"
        },
        "id": "mCtjbcEFGs7A",
        "outputId": "ad82948d-b84f-443b-a745-23e9d3b23098"
      },
      "outputs": [
        {
          "output_type": "stream",
          "name": "stdout",
          "text": [
            "N° de columnas \n",
            "3\n",
            "N° de filas \n",
            "4\n",
            "Pon el elemento en la posición - Fila [0], Columna [0] \n",
            "1\n",
            "Pon el elemento en la posición - Fila [0], Columna [1] \n",
            "2\n",
            "Pon el elemento en la posición - Fila [0], Columna [2] \n",
            "3\n",
            "Pon el elemento en la posición - Fila [1], Columna [0] \n",
            "4\n",
            "Pon el elemento en la posición - Fila [1], Columna [1] \n",
            "5\n",
            "Pon el elemento en la posición - Fila [1], Columna [2] \n",
            "6\n",
            "Pon el elemento en la posición - Fila [2], Columna [0] \n",
            "7\n",
            "Pon el elemento en la posición - Fila [2], Columna [1] \n",
            "8\n",
            "Pon el elemento en la posición - Fila [2], Columna [2] \n",
            "9\n",
            "Pon el elemento en la posición - Fila [3], Columna [0] \n",
            "10\n",
            "Pon el elemento en la posición - Fila [3], Columna [1] \n",
            "11\n",
            "Pon el elemento en la posición - Fila [3], Columna [2] \n",
            "12\n",
            "Matriz en formato matriz \n",
            "\n",
            "1 2 3 \n",
            "4 5 6 \n",
            "7 8 9 \n",
            "10 11 12 \n"
          ]
        }
      ],
      "source": [
        "Matriz = []\n",
        "\n",
        "C = int(input(\"N° de columnas \\n\"))\n",
        "F = int(input(\"N° de filas \\n\"))\n",
        "\n",
        "\n",
        "for i in range(F):\n",
        "  Fila = []\n",
        "  for j in range(C):\n",
        "    E = int(input(f\"Pon el elemento en la posición - Fila [{i}], Columna [{j}] \\n\"))\n",
        "    Fila.append(E)\n",
        "  Matriz.append(Fila)\n",
        "\n",
        "print(\"Matriz en formato matriz \\n\")\n",
        "\n",
        "for Fila in Matriz:\n",
        "  for k in Fila:\n",
        "    print(k, end= \" \")\n",
        "  print()"
      ]
    }
  ]
}