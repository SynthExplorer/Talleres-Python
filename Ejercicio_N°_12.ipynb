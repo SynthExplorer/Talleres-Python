{
  "nbformat": 4,
  "nbformat_minor": 0,
  "metadata": {
    "colab": {
      "provenance": [],
      "authorship_tag": "ABX9TyMM8iLgy9dKj4JCOOyiJTLr",
      "include_colab_link": true
    },
    "kernelspec": {
      "name": "python3",
      "display_name": "Python 3"
    },
    "language_info": {
      "name": "python"
    }
  },
  "cells": [
    {
      "cell_type": "markdown",
      "metadata": {
        "id": "view-in-github",
        "colab_type": "text"
      },
      "source": [
        "<a href=\"https://colab.research.google.com/github/SynthExplorer/Talleres-Python/blob/main/Ejercicio_N%C2%B0_12.ipynb\" target=\"_parent\"><img src=\"https://colab.research.google.com/assets/colab-badge.svg\" alt=\"Open In Colab\"/></a>"
      ]
    },
    {
      "cell_type": "code",
      "execution_count": 2,
      "metadata": {
        "colab": {
          "base_uri": "https://localhost:8080/"
        },
        "id": "IxQD8omqPSR1",
        "outputId": "10329b63-5d97-4205-97df-e0f2ae98cf42"
      },
      "outputs": [
        {
          "output_type": "stream",
          "name": "stdout",
          "text": [
            "Elementos eliminados \n",
            " [1, 5] \n",
            " Elementos no eliminados \n",
            " [2, 3, 4]\n"
          ]
        }
      ],
      "source": [
        "numeros = [ 1, 2, 3, 4, 5]\n",
        "Eliminados = []\n",
        "New_List = []\n",
        "\n",
        "\n",
        "Eliminados.append(numeros.pop(0))\n",
        "Eliminados.append(numeros.pop(-1))\n",
        "\n",
        "for _ in numeros:\n",
        "  if _ != Eliminados:\n",
        "    New_List.append(_)\n",
        "\n",
        "print(f\"Elementos eliminados \\n {Eliminados} \\n Elementos no eliminados \\n {New_List}\")"
      ]
    }
  ]
}