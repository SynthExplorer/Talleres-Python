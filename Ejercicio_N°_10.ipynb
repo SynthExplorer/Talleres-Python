{
  "nbformat": 4,
  "nbformat_minor": 0,
  "metadata": {
    "colab": {
      "provenance": [],
      "authorship_tag": "ABX9TyPOL9oQoFTRdKDVMjegQqP4",
      "include_colab_link": true
    },
    "kernelspec": {
      "name": "python3",
      "display_name": "Python 3"
    },
    "language_info": {
      "name": "python"
    }
  },
  "cells": [
    {
      "cell_type": "markdown",
      "metadata": {
        "id": "view-in-github",
        "colab_type": "text"
      },
      "source": [
        "<a href=\"https://colab.research.google.com/github/SynthExplorer/Talleres-Python/blob/main/Ejercicio_N%C2%B0_10.ipynb\" target=\"_parent\"><img src=\"https://colab.research.google.com/assets/colab-badge.svg\" alt=\"Open In Colab\"/></a>"
      ]
    },
    {
      "cell_type": "code",
      "execution_count": null,
      "metadata": {
        "id": "9-GgYhMljZHv"
      },
      "outputs": [],
      "source": [
        "Longitud = int(input(\"¿De cuántos elementos quieres la lista? \\n\"))\n",
        "Lista = []\n",
        "\n",
        "Suma = 0\n",
        "\n",
        "for i in range(Longitud):\n",
        "  Elemento = int(input(f\"Ingresa un número - Posición [{i}] \\n\"))\n",
        "\n",
        "  Suma += Elemento\n",
        "  Lista.append(Elemento)\n",
        "\n",
        "\n",
        "\n",
        "print(f\"Lista creada -- {Lista} -- \\n\")\n",
        "\n",
        "print(f\"La suma de los elementos es: {Suma}\")"
      ]
    }
  ]
}