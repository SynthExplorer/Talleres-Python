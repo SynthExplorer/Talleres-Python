{
  "nbformat": 4,
  "nbformat_minor": 0,
  "metadata": {
    "colab": {
      "provenance": [],
      "authorship_tag": "ABX9TyMDIoDEw5YxgzyYc1E4TlXK",
      "include_colab_link": true
    },
    "kernelspec": {
      "name": "python3",
      "display_name": "Python 3"
    },
    "language_info": {
      "name": "python"
    }
  },
  "cells": [
    {
      "cell_type": "markdown",
      "metadata": {
        "id": "view-in-github",
        "colab_type": "text"
      },
      "source": [
        "<a href=\"https://colab.research.google.com/github/SynthExplorer/Talleres-Python/blob/main/Ejercicio_N%C2%B0_3.ipynb\" target=\"_parent\"><img src=\"https://colab.research.google.com/assets/colab-badge.svg\" alt=\"Open In Colab\"/></a>"
      ]
    },
    {
      "cell_type": "code",
      "execution_count": 2,
      "metadata": {
        "colab": {
          "base_uri": "https://localhost:8080/"
        },
        "id": "8_U4SHMs-I3y",
        "outputId": "9b9603db-a20c-4344-8c75-d86196f762f2"
      },
      "outputs": [
        {
          "output_type": "stream",
          "name": "stdout",
          "text": [
            "Ingresa el N° 1 \n",
            "6\n",
            "Ingresa el N° 2 \n",
            "7\n",
            "Ingresa el N° 3 \n",
            "6\n",
            "El 7 es el mayor de los 3\n"
          ]
        }
      ],
      "source": [
        "0\n",
        "N1 = int(input(\"Ingresa el N° 1 \\n\"))\n",
        "N2 = int(input(\"Ingresa el N° 2 \\n\"))\n",
        "N3 = int(input(\"Ingresa el N° 3 \\n\"))\n",
        "\n",
        "if N1 > N2 and N1 > N3:\n",
        "  print(f\"El {N1} es el mayor de los 3\")\n",
        "\n",
        "elif N2 > N3 and N2 > N1:\n",
        "      print(f\"El {N2} es el mayor de los 3\")\n",
        "\n",
        "elif N3 > N2 and N3 > N1:\n",
        "      print(f\"El {N3} es el mayor de los 3\")\n",
        "\n",
        "else:\n",
        "  print(\"Los números ingresados son iguales\")"
      ]
    }
  ]
}