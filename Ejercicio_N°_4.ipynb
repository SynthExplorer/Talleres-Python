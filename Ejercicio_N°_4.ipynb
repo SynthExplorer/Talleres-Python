{
  "nbformat": 4,
  "nbformat_minor": 0,
  "metadata": {
    "colab": {
      "provenance": [],
      "authorship_tag": "ABX9TyPvQxeRgJQGr3uAejk2TJ2F",
      "include_colab_link": true
    },
    "kernelspec": {
      "name": "python3",
      "display_name": "Python 3"
    },
    "language_info": {
      "name": "python"
    }
  },
  "cells": [
    {
      "cell_type": "markdown",
      "metadata": {
        "id": "view-in-github",
        "colab_type": "text"
      },
      "source": [
        "<a href=\"https://colab.research.google.com/github/SynthExplorer/Talleres-Python/blob/main/Calculadora.ipynb\" target=\"_parent\"><img src=\"https://colab.research.google.com/assets/colab-badge.svg\" alt=\"Open In Colab\"/></a>"
      ]
    },
    {
      "cell_type": "code",
      "execution_count": null,
      "metadata": {
        "colab": {
          "base_uri": "https://localhost:8080/",
          "height": 366
        },
        "id": "NPQSalZTppkg",
        "outputId": "52a81955-0513-4472-fc8f-1ed8399f90ba"
      },
      "outputs": [
        {
          "output_type": "error",
          "ename": "TclError",
          "evalue": "ignored",
          "traceback": [
            "\u001b[0;31m---------------------------------------------------------------------------\u001b[0m",
            "\u001b[0;31mTclError\u001b[0m                                  Traceback (most recent call last)",
            "\u001b[0;32m<ipython-input-1-f2f4506314fe>\u001b[0m in \u001b[0;36m<cell line: 48>\u001b[0;34m()\u001b[0m\n\u001b[1;32m     46\u001b[0m \u001b[0;34m\u001b[0m\u001b[0m\n\u001b[1;32m     47\u001b[0m \u001b[0;34m\u001b[0m\u001b[0m\n\u001b[0;32m---> 48\u001b[0;31m \u001b[0mroot\u001b[0m\u001b[0;34m=\u001b[0m\u001b[0mTk\u001b[0m \u001b[0;34m(\u001b[0m\u001b[0;34m)\u001b[0m\u001b[0;34m\u001b[0m\u001b[0;34m\u001b[0m\u001b[0m\n\u001b[0m\u001b[1;32m     49\u001b[0m \u001b[0mcalculadora\u001b[0m \u001b[0;34m=\u001b[0m \u001b[0mCalculadora\u001b[0m\u001b[0;34m(\u001b[0m\u001b[0mroot\u001b[0m\u001b[0;34m)\u001b[0m\u001b[0;34m\u001b[0m\u001b[0;34m\u001b[0m\u001b[0m\n\u001b[1;32m     50\u001b[0m \u001b[0mroot\u001b[0m\u001b[0;34m.\u001b[0m\u001b[0mmainloop\u001b[0m\u001b[0;34m(\u001b[0m\u001b[0;34m)\u001b[0m\u001b[0;34m\u001b[0m\u001b[0;34m\u001b[0m\u001b[0m\n",
            "\u001b[0;32m/usr/lib/python3.10/tkinter/__init__.py\u001b[0m in \u001b[0;36m__init__\u001b[0;34m(self, screenName, baseName, className, useTk, sync, use)\u001b[0m\n\u001b[1;32m   2297\u001b[0m                 \u001b[0mbaseName\u001b[0m \u001b[0;34m=\u001b[0m \u001b[0mbaseName\u001b[0m \u001b[0;34m+\u001b[0m \u001b[0mext\u001b[0m\u001b[0;34m\u001b[0m\u001b[0;34m\u001b[0m\u001b[0m\n\u001b[1;32m   2298\u001b[0m         \u001b[0minteractive\u001b[0m \u001b[0;34m=\u001b[0m \u001b[0;32mFalse\u001b[0m\u001b[0;34m\u001b[0m\u001b[0;34m\u001b[0m\u001b[0m\n\u001b[0;32m-> 2299\u001b[0;31m         \u001b[0mself\u001b[0m\u001b[0;34m.\u001b[0m\u001b[0mtk\u001b[0m \u001b[0;34m=\u001b[0m \u001b[0m_tkinter\u001b[0m\u001b[0;34m.\u001b[0m\u001b[0mcreate\u001b[0m\u001b[0;34m(\u001b[0m\u001b[0mscreenName\u001b[0m\u001b[0;34m,\u001b[0m \u001b[0mbaseName\u001b[0m\u001b[0;34m,\u001b[0m \u001b[0mclassName\u001b[0m\u001b[0;34m,\u001b[0m \u001b[0minteractive\u001b[0m\u001b[0;34m,\u001b[0m \u001b[0mwantobjects\u001b[0m\u001b[0;34m,\u001b[0m \u001b[0museTk\u001b[0m\u001b[0;34m,\u001b[0m \u001b[0msync\u001b[0m\u001b[0;34m,\u001b[0m \u001b[0muse\u001b[0m\u001b[0;34m)\u001b[0m\u001b[0;34m\u001b[0m\u001b[0;34m\u001b[0m\u001b[0m\n\u001b[0m\u001b[1;32m   2300\u001b[0m         \u001b[0;32mif\u001b[0m \u001b[0museTk\u001b[0m\u001b[0;34m:\u001b[0m\u001b[0;34m\u001b[0m\u001b[0;34m\u001b[0m\u001b[0m\n\u001b[1;32m   2301\u001b[0m             \u001b[0mself\u001b[0m\u001b[0;34m.\u001b[0m\u001b[0m_loadtk\u001b[0m\u001b[0;34m(\u001b[0m\u001b[0;34m)\u001b[0m\u001b[0;34m\u001b[0m\u001b[0;34m\u001b[0m\u001b[0m\n",
            "\u001b[0;31mTclError\u001b[0m: no display name and no $DISPLAY environment variable"
          ]
        }
      ],
      "source": [
        "from tkinter import Tk, Entry, Button, StringVar\n",
        "\n",
        "class Calculadora:\n",
        "    def __init__(self,master):\n",
        "        master.title(\"Calculadora\")\n",
        "        master.geometry('350x420')\n",
        "        master.config(bg='lightblue')\n",
        "        master.resizable(False, False)\n",
        "\n",
        "        self.equation=StringVar()\n",
        "        self.entry_value=\"\"\n",
        "        Entry(width = 17 , bg = '#fff' , font=('Arial Bold' , 28) , textvariable=self.equation).place( x = 0 , y = 0)\n",
        "\n",
        "        Button(width=11, height = 4 , text = '//' , relief = 'flat' , bg ='white' , command=lambda:self.show('//')).place(x= 0 , y=50)\n",
        "        Button(width=11 , height = 4 , text = '**' , relief = 'flat', bg ='white' , command=lambda:self.show('**')).place(x= 90 , y= 50)\n",
        "        Button(width=11 , height = 4 , text = '%' , relief = 'flat' , bg ='white' , command=lambda:self.show('%')).place(x= 180 , y= 50)\n",
        "        Button(width=11 , height = 4 , text = '1' , relief = 'flat' , bg ='white' , command=lambda:self.show(1)).place(x= 0 , y=125)\n",
        "        Button(width=11 , height = 4 , text = '2' , relief = 'flat' , bg ='white' , command=lambda:self.show(2)).place(x= 90 , y=125)\n",
        "        Button(width=11 , height = 4 , text = '3' , relief = 'flat' , bg ='white' , command=lambda:self.show(3)).place(x= 180 , y=125)\n",
        "        Button(width=11 , height = 4 , text = '4' , relief = 'flat' , bg ='white' , command=lambda:self.show(4)).place(x= 0, y=200)\n",
        "        Button(width=11 , height = 4 , text = '5' , relief = 'flat' , bg ='white' , command=lambda:self.show(5)).place(x= 90 , y=200)\n",
        "        Button(width=11 , height = 4 , text = '6' , relief = 'flat' , bg ='white' , command=lambda:self.show(6)).place(x=  180, y=200)\n",
        "        Button(width=11 , height = 4 , text = '7' , relief = 'flat' , bg ='white' , command=lambda:self.show(7)).place(x= 0 , y=275)\n",
        "        Button(width=11 , height = 4 , text = '8' , relief = 'flat' , bg ='white' , command=lambda:self.show(8)).place(x= 90 , y=275)\n",
        "        Button(width=11 , height = 4 , text = '9' , relief = 'flat' , bg ='white' , command=lambda:self.show(9)).place(x= 180 , y=275)\n",
        "        Button(width=11 , height = 4 , text = '0' , relief = 'flat' , bg ='white' , command=lambda:self.show(0)).place(x= 90 , y=350)\n",
        "        Button(width=11 , height = 4 , text = '.' , relief = 'flat' , bg ='white' , command=lambda:self.show('.')).place(x= 180 , y=350)\n",
        "        Button(width=11 , height = 4 , text = '+' , relief = 'flat' , bg ='white' , command=lambda:self.show('+')).place(x= 270 , y=275)\n",
        "        Button(width=11 , height = 4 , text = '-' , relief = 'flat' , bg ='white' , command=lambda:self.show('-')).place(x=  270, y=200)\n",
        "        Button(width=11 , height = 4 , text = '/' , relief = 'flat' , bg ='white' , command=lambda:self.show('/')).place(x=  270, y=50)\n",
        "        Button(width=11 , height = 4 , text = '*' , relief = 'flat' , bg ='white' , command=lambda:self.show('*')).place(x= 270, y=125)\n",
        "        Button(width=11 , height = 4 , text = '=' , relief = 'flat' , bg ='white' , command=self.Solución).place(x= 270 , y= 350)\n",
        "        Button(width=11, height = 4 , text = 'C' , relief = 'flat' , command=self.clear).place(x= 0 , y= 350)\n",
        "\n",
        "\n",
        "    def show (self, value):\n",
        "        self.entry_value += str(value)\n",
        "        self.equation.set (self.entry_value)\n",
        "\n",
        "    def clear(self):\n",
        "        self.entry_value = ''\n",
        "        self.equation.set(self.entry_value)\n",
        "\n",
        "    def Solución (self):\n",
        "        resultado = eval(self.entry_value)\n",
        "        self.equation.set(resultado)\n",
        "\n",
        "\n",
        "root=Tk ()\n",
        "calculadora = Calculadora(root)\n",
        "root.mainloop()"
      ]
    }
  ]
}
