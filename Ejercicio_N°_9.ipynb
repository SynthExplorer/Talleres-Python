{
  "nbformat": 4,
  "nbformat_minor": 0,
  "metadata": {
    "colab": {
      "provenance": [],
      "authorship_tag": "ABX9TyMbSE+Rl2wAAWCY8+Gcj3m+",
      "include_colab_link": true
    },
    "kernelspec": {
      "name": "python3",
      "display_name": "Python 3"
    },
    "language_info": {
      "name": "python"
    }
  },
  "cells": [
    {
      "cell_type": "markdown",
      "metadata": {
        "id": "view-in-github",
        "colab_type": "text"
      },
      "source": [
        "<a href=\"https://colab.research.google.com/github/SynthExplorer/Talleres-Python/blob/main/Ejercicio_N%C2%B0_9.ipynb\" target=\"_parent\"><img src=\"https://colab.research.google.com/assets/colab-badge.svg\" alt=\"Open In Colab\"/></a>"
      ]
    },
    {
      "cell_type": "code",
      "execution_count": 10,
      "metadata": {
        "id": "NswLelWGEGab",
        "colab": {
          "base_uri": "https://localhost:8080/"
        },
        "outputId": "d85bd5a2-5bc6-4b3a-b1ad-e2121ee1c04d"
      },
      "outputs": [
        {
          "output_type": "stream",
          "name": "stdout",
          "text": [
            "Ingresa lo que quieras \n",
            "ooolaaa\n",
            "Ingresa un carácter \n",
            "o\n",
            "Sin vocales \n",
            "  l\n",
            "El carácter - o - está en la frase\n"
          ]
        }
      ],
      "source": [
        "Cadena = input(\"Ingresa lo que quieras \\n\")\n",
        "\n",
        "Eliminar = input(\"Ingresa un carácter \\n\")\n",
        "Eliminar = Eliminar.lower()\n",
        "\n",
        "New_String = \" \"\n",
        "\n",
        "#####\n",
        "\n",
        "for Letra in Cadena:\n",
        "  if Letra.lower() in 'aeiou':\n",
        "    continue\n",
        "  New_String += Letra\n",
        "\n",
        "print(f\"Sin vocales \\n {New_String}\")\n",
        "\n",
        "#####\n",
        "\n",
        "if Eliminar in Cadena:\n",
        "  print(f\"El carácter - {Eliminar} - está en la frase\")\n",
        "else:\n",
        "  print(f\"El carácter - {Eliminar} - no está en la frase\")\n",
        "\n",
        "# Hi, Profe. No entendí esta parte \"y en caso de que el carácter en específico sea parte de la frase, el bucle deberá finalizar su ejecución\".\n",
        "\n",
        "# Pero si que hay que sacarle las vocales a la frase.\n"
      ]
    },
    {
      "cell_type": "code",
      "source": [],
      "metadata": {
        "id": "SX7r1pXJIKp3"
      },
      "execution_count": null,
      "outputs": []
    }
  ]
}