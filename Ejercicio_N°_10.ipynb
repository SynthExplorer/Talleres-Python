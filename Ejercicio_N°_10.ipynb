{
  "nbformat": 4,
  "nbformat_minor": 0,
  "metadata": {
    "colab": {
      "provenance": [],
      "authorship_tag": "ABX9TyNFgyDZLay/1mxSri/QNkiT",
      "include_colab_link": true
    },
    "kernelspec": {
      "name": "python3",
      "display_name": "Python 3"
    },
    "language_info": {
      "name": "python"
    }
  },
  "cells": [
    {
      "cell_type": "markdown",
      "metadata": {
        "id": "view-in-github",
        "colab_type": "text"
      },
      "source": [
        "<a href=\"https://colab.research.google.com/github/SynthExplorer/Talleres-Python/blob/main/Ejercicio_N%C2%B0_10.ipynb\" target=\"_parent\"><img src=\"https://colab.research.google.com/assets/colab-badge.svg\" alt=\"Open In Colab\"/></a>"
      ]
    },
    {
      "cell_type": "code",
      "execution_count": 12,
      "metadata": {
        "colab": {
          "base_uri": "https://localhost:8080/"
        },
        "id": "9-GgYhMljZHv",
        "outputId": "78821606-704f-4c53-91be-e9ef04c22b06"
      },
      "outputs": [
        {
          "output_type": "stream",
          "name": "stdout",
          "text": [
            "Ingresa la longitud de la lista \n",
            "4\n",
            "Ingresa un número para la lista \n",
            "1\n",
            "Ingresa un número para la lista \n",
            "2\n",
            "Ingresa un número para la lista \n",
            "3\n",
            "Ingresa un número para la lista \n",
            "4\n",
            "Lista creada -- [1, 2, 3, 4] -- \n",
            "\n",
            "La suma de los elementos es: 10\n"
          ]
        }
      ],
      "source": [
        "Longitud = int(input(\"Ingresa la longitud de la lista \\n\"))\n",
        "Lista = []\n",
        "\n",
        "Suma = 0\n",
        "\n",
        "for _ in range(Longitud):\n",
        "  Elemento = int(input(\"Ingresa un número para la lista \\n\"))\n",
        "\n",
        "  Lista.append(Elemento)\n",
        "  Suma += Elemento\n",
        "\n",
        "\n",
        "print(f\"Lista creada -- {Lista} -- \\n\")\n",
        "\n",
        "print(f\"La suma de los elementos es: {Suma}\")"
      ]
    }
  ]
}