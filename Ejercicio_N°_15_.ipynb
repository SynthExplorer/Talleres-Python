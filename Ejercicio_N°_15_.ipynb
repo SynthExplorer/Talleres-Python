{
  "nbformat": 4,
  "nbformat_minor": 0,
  "metadata": {
    "colab": {
      "provenance": [],
      "authorship_tag": "ABX9TyOI5+Flz/sqosHNTWDGg49C",
      "include_colab_link": true
    },
    "kernelspec": {
      "name": "python3",
      "display_name": "Python 3"
    },
    "language_info": {
      "name": "python"
    }
  },
  "cells": [
    {
      "cell_type": "markdown",
      "metadata": {
        "id": "view-in-github",
        "colab_type": "text"
      },
      "source": [
        "<a href=\"https://colab.research.google.com/github/SynthExplorer/Talleres-Python/blob/main/Ejercicio_N%C2%B0_15_.ipynb\" target=\"_parent\"><img src=\"https://colab.research.google.com/assets/colab-badge.svg\" alt=\"Open In Colab\"/></a>"
      ]
    },
    {
      "cell_type": "code",
      "execution_count": null,
      "metadata": {
        "id": "IPKw52o1dSui"
      },
      "outputs": [],
      "source": []
    },
    {
      "cell_type": "code",
      "source": [
        "import pandas as pd\n",
        "from sklearn.model_selection import train_test_split\n",
        "from sklearn.ensemble import RandomForestClassifier\n",
        "from sklearn.metrics import confusion_matrix, accuracy_score, precision_score, recall_score, f1_score\n",
        "\n",
        "# El archivo importado no dejaba de reportar fallas, como en el formato de la fecha, y otros valores que intenté cuadrar, pero no funcionó, así que, me toco cargalos directamente aquí. 😅\n",
        "\n",
        "\n",
        "\n",
        "###### Y, no puede hacer la interfaz, el Visual no me ejecutaba los códigos que ponía, intenté con varios compiladores y nada, además de reinstalar el visual 3 veces. 😓\n",
        "data = pd.DataFrame({\n",
        "    'Fecha': [\"2/01/2023\", \"3/01/2023\", \"4/01/2023\", \"5/01/2023\", \"6/01/2023\", \"7/01/2023\", \"8/01/2023\", \"9/01/2023\", \"10/01/2023\", \"11/01/2023\", \"12/01/2023\", \"13/01/2023\", \"14/01/2023\", \"15/01/2023\", \"16/01/2023\", \"17/01/2023\", \"18/01/2023\", \"19/01/2023\", \"20/01/2023\", \"21/01/2023\"],\n",
        "    'Último': [\"35.953\", \"35.447\", \"34.669\", \"34.490\", \"34.551\", \"34.104\", \"33.942\", \"34.184\", \"34.504\", \"33.943\", \"33.069\", \"30.023\", \"29.922\", \"29.689\", \"28.745\", \"28.332\", \"28.410\", \"28.524\", \"27.168\", \"26.871\"],\n",
        "    'Apertura': [\"34.335\", \"34.669\", \"34.490\", \"34.552\", \"34.104\", \"33.942\", \"34.184\", \"34.504\", \"33.943\", \"33.069\", \"30.023\", \"29.922\", \"29.689\", \"28.745\", \"28.332\", \"28.410\", \"28.524\", \"27.168\", \"26.871\", \"26.875\"],\n",
        "    'Máximo': [\"35.953\", \"35.561\", \"34.730\", \"34.876\", \"34.783\", \"34.494\", \"34.268\", \"34.843\", \"35.147\", \"35.175\", \"33.525\", \"30.225\", \"30.343\", \"30.232\", \"28.904\", \"28.978\", \"28.624\", \"30.067\", \"27.297\", \"26.995\"],\n",
        "    'Mínimo': [\"34.335\", \"34.114\", \"34.111\", \"34.117\", \"33.969\", \"33.906\", \"33.430\", \"33.770\", \"33.756\", \"32.852\", \"29.923\", \"29.704\", \"29.478\", \"28.619\", \"28.155\", \"28.171\", \"28.109\", \"27.129\", \"26.832\", \"26.830\"],\n",
        "    'Vol.': [\"2,79K\", \"1,99K\", \"1,39K\", \"1,36K\", \"1,50K\", \"0,75K\", \"1,12K\", \"1,01K\", \"2,24K\", \"5,30K\", \"6,76K\", \"0,50K\", \"0,79K\", \"3,15K\", \"1.56K\", \"1.02K\", \"0.83K\", \"4.31K\", \"0.47K\", \"0.36K\"],\n",
        "    '% var.': [\"-1,82%\", \"2,24%\", \"0,52%\", \"-0,18%\", \"1,31%\", \"0,48%\", \"-0,71%\", \"-0,93%\", \"1,65%\", \"2,64%\", \"10,15%\", \"0,34%\", \"0,78%\", \"3,28%\", \"1,46%\", \"-0,27%\", \"-0,40%\", \"4,99%\", \"1,11%\", \"-0,01%\"]\n",
        "})\n",
        "\n",
        "# Agrega la columna de etiqueta (1 para aumentar, 0 para disminuir)\n",
        "data['Etiqueta'] = (data['% var.'].str.replace('%', '', regex=True).str.replace(',', '.', regex=True).astype(float) > 0).astype(int)\n",
        "\n",
        "# Realiza la conversión adecuada de los datos en el formato necesario\n",
        "data['% var.'] = data['% var.'].str.replace('%', '', regex=True).str.replace(',', '.', regex=True).astype(float)\n",
        "data['Vol.'] = data['Vol.'].str.replace('K', '', regex=True).str.replace(',', '.', regex=True).astype(float)\n",
        "data['Fecha'] = pd.to_datetime(data['Fecha'], format='%d/%m/%Y')\n",
        "\n",
        "# Convierte la fecha en características numéricas (día, mes, año)\n",
        "data['Dia'] = data['Fecha'].dt.day\n",
        "data['Mes'] = data['Fecha'].dt.month\n",
        "data['Año'] = data['Fecha'].dt.year\n",
        "\n",
        "# Separa los datos\n",
        "X = data[['Dia', 'Mes', 'Año', 'Último']]\n",
        "y = data['Etiqueta']\n",
        "\n",
        "# Divide los datos en conjuntos de entrenamiento y prueba\n",
        "X_train, X_test, y_train, y_test = train_test_split(X, y, test_size=0.3, random_state=42)\n",
        "\n",
        "# Entrena el modelo RandomForestClassifier\n",
        "model = RandomForestClassifier(n_estimators=100, random_state=42)\n",
        "model.fit(X_train, y_train)\n",
        "\n",
        "# Realiza predicciones en el conjunto de prueba\n",
        "y_pred = model.predict(X_test)\n",
        "\n",
        "confusion = confusion_matrix(y_test, y_pred)\n",
        "accuracy = accuracy_score(y_test, y_pred)\n",
        "precision = precision_score(y_test, y_pred)\n",
        "recall = recall_score(y_test, y_pred)\n",
        "f1 = f1_score(y_test, y_pred)\n",
        "\n",
        "print(\"Matriz de Confusión:\")\n",
        "print(confusion)\n",
        "print(f\"Accuracy: {accuracy:.2f}\")\n",
        "print(f\"Precision: {precision:.2f}\")\n",
        "print(f\"Recall: {recall:.2f}\")\n",
        "print(f\"F1-Score: {f1:.2f}\")\n"
      ],
      "metadata": {
        "colab": {
          "base_uri": "https://localhost:8080/"
        },
        "id": "W_SqPDt5WSoN",
        "outputId": "9f0245fa-9d0e-4549-e5de-83576c653a01"
      },
      "execution_count": null,
      "outputs": [
        {
          "output_type": "stream",
          "name": "stdout",
          "text": [
            "Matriz de Confusión:\n",
            "[[0 2]\n",
            " [3 1]]\n",
            "Accuracy: 0.17\n",
            "Precision: 0.33\n",
            "Recall: 0.25\n",
            "F1-Score: 0.29\n"
          ]
        }
      ]
    },
    {
      "cell_type": "code",
      "source": [
        "import pandas as pd\n",
        "from sklearn.model_selection import train_test_split\n",
        "from sklearn.ensemble import RandomForestRegressor\n",
        "from sklearn.metrics import mean_squared_error\n",
        "\n",
        "#Se usó el modelo de regresión\n",
        "\n",
        "data = pd.DataFrame({\n",
        "    'Fecha': [\"2/01/2023\", \"3/01/2023\", \"4/01/2023\", \"5/01/2023\", \"6/01/2023\", \"7/01/2023\", \"8/01/2023\", \"9/01/2023\", \"10/01/2023\", \"11/01/2023\", \"12/01/2023\", \"13/01/2023\", \"14/01/2023\", \"15/01/2023\", \"16/01/2023\", \"17/01/2023\", \"18/01/2023\", \"19/01/2023\", \"20/01/2023\", \"21/01/2023\"],\n",
        "    'Último': [\"35.953\", \"35.447\", \"34.669\", \"34.490\", \"34.551\", \"34.104\", \"33.942\", \"34.184\", \"34.504\", \"33.943\", \"33.069\", \"30.023\", \"29.922\", \"29.689\", \"28.745\", \"28.332\", \"28.410\", \"28.524\", \"27.168\", \"26.871\"],\n",
        "    'Apertura': [\"34.335\", \"34.669\", \"34.490\", \"34.552\", \"34.104\", \"33.942\", \"34.184\", \"34.504\", \"33.943\", \"33.069\", \"30.023\", \"29.922\", \"29.689\", \"28.745\", \"28.332\", \"28.410\", \"28.524\", \"27.168\", \"26.871\", \"26.875\"],\n",
        "    'Máximo': [\"35.953\", \"35.561\", \"34.730\", \"34.876\", \"34.783\", \"34.494\", \"34.268\", \"34.843\", \"35.147\", \"35.175\", \"33.525\", \"30.225\", \"30.343\", \"30.232\", \"28.904\", \"28.978\", \"28.624\", \"30.067\", \"27.297\", \"26.995\"],\n",
        "    'Mínimo': [\"34.335\", \"34.114\", \"34.111\", \"34.117\", \"33.969\", \"33.906\", \"33.430\", \"33.770\", \"33.756\", \"32.852\", \"29.923\", \"29.704\", \"29.478\", \"28.619\", \"28.155\", \"28.171\", \"28.109\", \"27.129\", \"26.832\", \"26.830\"],\n",
        "    'Vol.': [\"2,79K\", \"1,99K\", \"1,39K\", \"1,36K\", \"1,50K\", \"0,75K\", \"1,12K\", \"1,01K\", \"2,24K\", \"5,30K\", \"6,76K\", \"0,50K\", \"0,79K\", \"3,15K\", \"1.56K\", \"1.02K\", \"0.83K\", \"4.31K\", \"0.47K\", \"0.36K\"],\n",
        "    '% var.': [\"-1,82%\", \"2,24%\", \"0,52%\", \"-0,18%\", \"1,31%\", \"0,48%\", \"-0,71%\", \"-0,93%\", \"1,65%\", \"2,64%\", \"10,15%\", \"0,34%\", \"0,78%\", \"3,28%\", \"1,46%\", \"-0,27%\", \"-0,40%\", \"4,99%\", \"1,11%\", \"-0,01%\"]\n",
        "})\n",
        "\n",
        "# Agrega la columna de etiqueta (1 para aumentar, 0 para disminuir)\n",
        "data['Etiqueta'] = (data['% var.'].str.replace('%', '', regex=True).str.replace(',', '.', regex=True).astype(float) > 0).astype(int)\n",
        "\n",
        "# Realiza la conversión adecuada de tus datos en el formato necesario\n",
        "data['% var.'] = data['% var.'].str.replace('%', '', regex=True).str.replace(',', '.', regex=True).astype(float)\n",
        "data['Vol.'] = data['Vol.'].str.replace('K', '', regex=True).str.replace(',', '.', regex=True).astype(float)\n",
        "data['Fecha'] = pd.to_datetime(data['Fecha'], format='%d/%m/%Y')\n",
        "\n",
        "# Convierte la fecha en características numéricas (día, mes, año)\n",
        "data['Dia'] = data['Fecha'].dt.day\n",
        "data['Mes'] = data['Fecha'].dt.month\n",
        "data['Año'] = data['Fecha'].dt.year\n",
        "\n",
        "# Separa los datos\n",
        "X = data[['Dia', 'Mes', 'Año', 'Último']]\n",
        "y = data['Último'].str.replace(',', '.', regex=True).astype(float)\n",
        "\n",
        "# Divide los datos en conjuntos de entrenamiento, y prueba con 30%\n",
        "X_train, X_test, y_train, y_test = train_test_split(X, y, test_size=0.3, random_state=42)\n",
        "\n",
        "# Entrena un modelo (en este caso, RandomForestRegressor)\n",
        "model = RandomForestRegressor(n_estimators=100, random_state=42)\n",
        "model.fit(X_train, y_train)\n",
        "\n",
        "# Realiza predicciones en el conjunto de prueba\n",
        "y_pred = model.predict(X_test)\n",
        "\n",
        "# Calcular la métrica de desempeño (Error cuadrático medio)\n",
        "mse = mean_squared_error(y_test, y_pred)\n",
        "print(f\"Error Cuadrático Medio: {mse:.2f}\")\n",
        "\n",
        "fecha_futura = input(\"¿En qué fecha quieres saber el valor de bitcoin? (dd/mm/yyyy) \\n\")\n",
        "\n",
        "# Fecha al formato correcto\n",
        "fecha_futura = pd.to_datetime(fecha_futura, format='%d/%m/%Y')\n",
        "\n",
        "# Utiliza el modelo entrenado para hacer la predicción\n",
        "valor_predicho = model.predict([[fecha_futura.day, fecha_futura.month, fecha_futura.year, 0]])\n",
        "\n",
        "print(f\"Valor predicho para el {fecha_futura.strftime('%d/%m/%Y')} es {valor_predicho[0]:.3f} USD\")\n"
      ],
      "metadata": {
        "colab": {
          "base_uri": "https://localhost:8080/"
        },
        "id": "pkdECKBzZxxk",
        "outputId": "a498d519-88c7-420d-ab43-2b6329539b00"
      },
      "execution_count": null,
      "outputs": [
        {
          "output_type": "stream",
          "name": "stdout",
          "text": [
            "Error Cuadrático Medio: 0.47\n",
            "¿En qué fecha quieres saber el valor de bitcoin? (dd/mm/yyyy) \n",
            "4/11/2023\n",
            "Valor predicho para el 04/11/2023 es 31.415 USD\n"
          ]
        },
        {
          "output_type": "stream",
          "name": "stderr",
          "text": [
            "/usr/local/lib/python3.10/dist-packages/sklearn/base.py:439: UserWarning: X does not have valid feature names, but RandomForestRegressor was fitted with feature names\n",
            "  warnings.warn(\n"
          ]
        }
      ]
    }
  ]
}