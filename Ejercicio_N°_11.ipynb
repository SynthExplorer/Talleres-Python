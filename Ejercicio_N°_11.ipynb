{
  "nbformat": 4,
  "nbformat_minor": 0,
  "metadata": {
    "colab": {
      "provenance": [],
      "authorship_tag": "ABX9TyOUggLuIoQdPUCwivYH67qc",
      "include_colab_link": true
    },
    "kernelspec": {
      "name": "python3",
      "display_name": "Python 3"
    },
    "language_info": {
      "name": "python"
    }
  },
  "cells": [
    {
      "cell_type": "markdown",
      "metadata": {
        "id": "view-in-github",
        "colab_type": "text"
      },
      "source": [
        "<a href=\"https://colab.research.google.com/github/SynthExplorer/Talleres-Python/blob/main/Ejercicio_N%C2%B0_11.ipynb\" target=\"_parent\"><img src=\"https://colab.research.google.com/assets/colab-badge.svg\" alt=\"Open In Colab\"/></a>"
      ]
    },
    {
      "cell_type": "code",
      "execution_count": 31,
      "metadata": {
        "id": "_mWAFNvuHCBo",
        "colab": {
          "base_uri": "https://localhost:8080/"
        },
        "outputId": "0d1febe3-2bea-42a9-f816-a0e77fb29f31"
      },
      "outputs": [
        {
          "output_type": "stream",
          "name": "stdout",
          "text": [
            "Ingresa un caracter a eliminar \n",
            "B\n",
            "Se han eliminado los elementos \n",
            " ['B', 'b'] \n",
            "\n",
            "Lista actualizada \n",
            " ['A', 'c', 'E', 'E', 'f']\n"
          ]
        }
      ],
      "source": [
        "Lista = [ \"A\", \"B\", \"b\", \"c\", \"E\", \"E\", \"f\"]\n",
        "\n",
        "New_Lista = []\n",
        "El_Encontrados = []\n",
        "\n",
        "Eliminar = input(\"Ingresa un caracter a eliminar \\n\")\n",
        "\n",
        "for I in Lista:\n",
        "  if I.lower() != Eliminar.lower():\n",
        "    New_Lista.append(I)\n",
        "\n",
        "  else:\n",
        "    El_Encontrados.append(I)\n",
        "\n",
        "\n",
        "print(f\"Se han eliminado los elementos \\n {El_Encontrados} \\n\")\n",
        "\n",
        "print(\"Lista actualizada \\n\" , New_Lista)\n"
      ]
    }
  ]
}