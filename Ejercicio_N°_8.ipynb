{
  "nbformat": 4,
  "nbformat_minor": 0,
  "metadata": {
    "colab": {
      "provenance": [],
      "authorship_tag": "ABX9TyOXNuqWNg3X5OzUirFKLiaz",
      "include_colab_link": true
    },
    "kernelspec": {
      "name": "python3",
      "display_name": "Python 3"
    },
    "language_info": {
      "name": "python"
    }
  },
  "cells": [
    {
      "cell_type": "markdown",
      "metadata": {
        "id": "view-in-github",
        "colab_type": "text"
      },
      "source": [
        "<a href=\"https://colab.research.google.com/github/SynthExplorer/Talleres-Python/blob/main/Ejercicio_N%C2%B0_8.ipynb\" target=\"_parent\"><img src=\"https://colab.research.google.com/assets/colab-badge.svg\" alt=\"Open In Colab\"/></a>"
      ]
    },
    {
      "cell_type": "code",
      "execution_count": 28,
      "metadata": {
        "colab": {
          "base_uri": "https://localhost:8080/"
        },
        "id": "kc33IqGiTNmT",
        "outputId": "a445877c-bf6c-48a0-b0b2-61342418a621"
      },
      "outputs": [
        {
          "output_type": "stream",
          "name": "stdout",
          "text": [
            "Ingresa un número -- Ó | 000 | para salir del bucle （ ￣︶￣）↗　 \n",
            "3\n",
            "Tabla de multiplicar del número 3\n",
            "3 * 0 = 0\n",
            "3 * 1 = 3\n",
            "3 * 2 = 6\n",
            "3 * 3 = 9\n",
            "3 * 4 = 12\n",
            "3 * 5 = 15\n",
            "3 * 6 = 18\n",
            "3 * 7 = 21\n",
            "3 * 8 = 24\n",
            "3 * 9 = 27\n",
            "3 * 10 = 30\n",
            "Ingresa un número -- Ó | 000 | para salir del bucle （ ￣︶￣）↗　 \n",
            "6\n",
            "Tabla de multiplicar del número 6\n",
            "6 * 0 = 0\n",
            "6 * 1 = 6\n",
            "6 * 2 = 12\n",
            "6 * 3 = 18\n",
            "6 * 4 = 24\n",
            "6 * 5 = 30\n",
            "6 * 6 = 36\n",
            "6 * 7 = 42\n",
            "6 * 8 = 48\n",
            "6 * 9 = 54\n",
            "6 * 10 = 60\n",
            "Ingresa un número -- Ó | 000 | para salir del bucle （ ￣︶￣）↗　 \n",
            "777777777\n",
            "Tabla de multiplicar del número 777777777\n",
            "777777777 * 0 = 0\n",
            "777777777 * 1 = 777777777\n",
            "777777777 * 2 = 1555555554\n",
            "777777777 * 3 = 2333333331\n",
            "777777777 * 4 = 3111111108\n",
            "777777777 * 5 = 3888888885\n",
            "777777777 * 6 = 4666666662\n",
            "777777777 * 7 = 5444444439\n",
            "777777777 * 8 = 6222222216\n",
            "777777777 * 9 = 6999999993\n",
            "777777777 * 10 = 7777777770\n",
            "Ingresa un número -- Ó | 000 | para salir del bucle （ ￣︶￣）↗　 \n",
            "000\n",
            "°°°°°°°Bye 😋°°°°°°°°\n"
          ]
        }
      ],
      "source": [
        "while True:\n",
        "  N = int(input(\"Ingresa un número -- Ó | 000 | para salir del bucle （ ￣︶￣）↗　 \\n\"))\n",
        "  if N == 000:\n",
        "    break\n",
        "\n",
        "  print(f\"Tabla de multiplicar del número {N}\")\n",
        "\n",
        "\n",
        "  for i in range(0 , 11):\n",
        "    S = N * i\n",
        "    print(f\"{N} * {i} = {S}\")\n",
        "\n",
        "A = \"Bye 😋\"\n",
        "\n",
        "print(A.center(20 , \"°\"))"
      ]
    }
  ]
}