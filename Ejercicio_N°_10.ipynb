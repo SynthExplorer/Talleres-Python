{
  "nbformat": 4,
  "nbformat_minor": 0,
  "metadata": {
    "colab": {
      "provenance": [],
      "authorship_tag": "ABX9TyN3eJ/RXvc5PqG0pa6dy+VS",
      "include_colab_link": true
    },
    "kernelspec": {
      "name": "python3",
      "display_name": "Python 3"
    },
    "language_info": {
      "name": "python"
    }
  },
  "cells": [
    {
      "cell_type": "markdown",
      "metadata": {
        "id": "view-in-github",
        "colab_type": "text"
      },
      "source": [
        "<a href=\"https://colab.research.google.com/github/SynthExplorer/Talleres-Python/blob/main/Ejercicio_N%C2%B0_10.ipynb\" target=\"_parent\"><img src=\"https://colab.research.google.com/assets/colab-badge.svg\" alt=\"Open In Colab\"/></a>"
      ]
    },
    {
      "cell_type": "code",
      "execution_count": 5,
      "metadata": {
        "colab": {
          "base_uri": "https://localhost:8080/"
        },
        "id": "9-GgYhMljZHv",
        "outputId": "6168f9ad-3a6f-42c1-eefd-493c8900d0d5"
      },
      "outputs": [
        {
          "output_type": "stream",
          "name": "stdout",
          "text": [
            "Ingresa la longitud de la lista \n",
            "3\n",
            "Ingresa un número para la lista - Posición [0] \n",
            "3\n",
            "Ingresa un número para la lista - Posición [1] \n",
            "3\n",
            "Ingresa un número para la lista - Posición [2] \n",
            "3\n",
            "Lista creada -- [3, 3, 3] -- \n",
            "\n",
            "La suma de los elementos es: 9\n"
          ]
        }
      ],
      "source": [
        "Longitud = int(input(\"Ingresa la longitud de la lista \\n\"))\n",
        "Lista = []\n",
        "\n",
        "Suma = 0\n",
        "\n",
        "for i in range(Longitud):\n",
        "  Elemento = int(input(f\"Ingresa un número para la lista - Posición [{i}] \\n\"))\n",
        "\n",
        "  Suma += Elemento\n",
        "  Lista.append(Elemento)\n",
        "\n",
        "\n",
        "\n",
        "print(f\"Lista creada -- {Lista} -- \\n\")\n",
        "\n",
        "print(f\"La suma de los elementos es: {Suma}\")"
      ]
    }
  ]
}