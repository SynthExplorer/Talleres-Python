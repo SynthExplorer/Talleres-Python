{
  "nbformat": 4,
  "nbformat_minor": 0,
  "metadata": {
    "colab": {
      "provenance": [],
      "authorship_tag": "ABX9TyMXznf0RCiPDwM5SFct/7Da",
      "include_colab_link": true
    },
    "kernelspec": {
      "name": "python3",
      "display_name": "Python 3"
    },
    "language_info": {
      "name": "python"
    }
  },
  "cells": [
    {
      "cell_type": "markdown",
      "metadata": {
        "id": "view-in-github",
        "colab_type": "text"
      },
      "source": [
        "<a href=\"https://colab.research.google.com/github/SynthExplorer/Talleres-Python/blob/main/Ejercicio_N%C2%B0_8.ipynb\" target=\"_parent\"><img src=\"https://colab.research.google.com/assets/colab-badge.svg\" alt=\"Open In Colab\"/></a>"
      ]
    },
    {
      "cell_type": "code",
      "execution_count": 23,
      "metadata": {
        "colab": {
          "base_uri": "https://localhost:8080/"
        },
        "id": "kc33IqGiTNmT",
        "outputId": "c7fc54db-5130-4b96-cab0-3339b8d6cacf"
      },
      "outputs": [
        {
          "output_type": "stream",
          "name": "stdout",
          "text": [
            "Ingresa un número / ó - 000 - para salir del bucle :3 \n",
            "000\n",
            "°°°°°°°Bye 😋°°°°°°°°\n"
          ]
        }
      ],
      "source": [
        "while True:\n",
        "  N = int(input(\"Ingresa un número / ó - 000 - para salir del bucle :3 \\n\"))\n",
        "  if N == 000:\n",
        "    break\n",
        "\n",
        "  print(f\"Tabla de multiplicar del número {N}\")\n",
        "\n",
        "\n",
        "  for i in range(0 , 11):\n",
        "    S = N * i\n",
        "    print(f\"{N} * {i} = {S}\")\n",
        "\n",
        "A = \"Bye 😋\"\n",
        "\n",
        "print(A.center(20 , \"°\"))"
      ]
    }
  ]
}