{
  "nbformat": 4,
  "nbformat_minor": 0,
  "metadata": {
    "colab": {
      "provenance": [],
      "authorship_tag": "ABX9TyMXkTo6v4lK5k3fLV1fA8g2",
      "include_colab_link": true
    },
    "kernelspec": {
      "name": "python3",
      "display_name": "Python 3"
    },
    "language_info": {
      "name": "python"
    }
  },
  "cells": [
    {
      "cell_type": "markdown",
      "metadata": {
        "id": "view-in-github",
        "colab_type": "text"
      },
      "source": [
        "<a href=\"https://colab.research.google.com/github/SynthExplorer/Talleres-Python/blob/main/Ejercicio_N%C2%B0_5.ipynb\" target=\"_parent\"><img src=\"https://colab.research.google.com/assets/colab-badge.svg\" alt=\"Open In Colab\"/></a>"
      ]
    },
    {
      "cell_type": "code",
      "execution_count": 9,
      "metadata": {
        "id": "dN94UBWODqF7",
        "colab": {
          "base_uri": "https://localhost:8080/"
        },
        "outputId": "3d938cf3-a271-49e8-f549-4f1e1018fb47"
      },
      "outputs": [
        {
          "output_type": "stream",
          "name": "stdout",
          "text": [
            "0 1 1 2 3 5 8 13 21 34 55 89 144 233 377 610 987 1597 "
          ]
        }
      ],
      "source": [
        "Ant = 0\n",
        "Sig = 1\n",
        "Corr = None\n",
        "\n",
        "for i in range(0,18):\n",
        "  print(Ant, end = \" \")\n",
        "  Corr = Ant\n",
        "  Ant = Sig\n",
        "  Sig = Corr + Ant\n",
        ""
      ]
    }
  ]
}