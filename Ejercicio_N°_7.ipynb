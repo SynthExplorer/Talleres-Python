{
  "nbformat": 4,
  "nbformat_minor": 0,
  "metadata": {
    "colab": {
      "provenance": [],
      "authorship_tag": "ABX9TyPx99p29NTjf9hYuyHdSl1w",
      "include_colab_link": true
    },
    "kernelspec": {
      "name": "python3",
      "display_name": "Python 3"
    },
    "language_info": {
      "name": "python"
    }
  },
  "cells": [
    {
      "cell_type": "markdown",
      "metadata": {
        "id": "view-in-github",
        "colab_type": "text"
      },
      "source": [
        "<a href=\"https://colab.research.google.com/github/SynthExplorer/Talleres-Python/blob/main/Ejercicio_N%C2%B0_7.ipynb\" target=\"_parent\"><img src=\"https://colab.research.google.com/assets/colab-badge.svg\" alt=\"Open In Colab\"/></a>"
      ]
    },
    {
      "cell_type": "code",
      "execution_count": 29,
      "metadata": {
        "colab": {
          "base_uri": "https://localhost:8080/"
        },
        "id": "1iMsrnGVPo89",
        "outputId": "75233bba-a921-45cc-b6eb-993876befc03"
      },
      "outputs": [
        {
          "output_type": "stream",
          "name": "stdout",
          "text": [
            "Ingresa el texto \n",
            "123456\n",
            "654321\n"
          ]
        }
      ],
      "source": [
        "Cadena = input(\"Ingresa el texto \\n\")\n",
        "Cadena = Cadena[::-1]\n",
        "print(Cadena)"
      ]
    },
    {
      "cell_type": "code",
      "source": [
        "Texto = input(\"Ingresa un texto \\n\")\n",
        "Invertida = \"\"\n",
        "\n",
        "for Texto in reversed(Texto):\n",
        "  Invertida += Texto\n",
        "\n",
        "\n",
        "print(Invertida)"
      ],
      "metadata": {
        "colab": {
          "base_uri": "https://localhost:8080/"
        },
        "id": "BHkzoGDjS017",
        "outputId": "96fc8d68-0228-4ce0-e018-d22625797a10"
      },
      "execution_count": 25,
      "outputs": [
        {
          "output_type": "stream",
          "name": "stdout",
          "text": [
            "Ingresa un texto \n",
            "Hola\n",
            "aloH\n"
          ]
        }
      ]
    }
  ]
}