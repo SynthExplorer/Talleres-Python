{
  "nbformat": 4,
  "nbformat_minor": 0,
  "metadata": {
    "colab": {
      "provenance": [],
      "authorship_tag": "ABX9TyMABtMn/hWlRk5rwk2Pj7ZH",
      "include_colab_link": true
    },
    "kernelspec": {
      "name": "python3",
      "display_name": "Python 3"
    },
    "language_info": {
      "name": "python"
    }
  },
  "cells": [
    {
      "cell_type": "markdown",
      "metadata": {
        "id": "view-in-github",
        "colab_type": "text"
      },
      "source": [
        "<a href=\"https://colab.research.google.com/github/SynthExplorer/Talleres-Python/blob/main/Ejercicio_N%C2%B0_6.ipynb\" target=\"_parent\"><img src=\"https://colab.research.google.com/assets/colab-badge.svg\" alt=\"Open In Colab\"/></a>"
      ]
    },
    {
      "cell_type": "code",
      "execution_count": 4,
      "metadata": {
        "colab": {
          "base_uri": "https://localhost:8080/"
        },
        "id": "VaR_EDozDuKS",
        "outputId": "be6f2644-f739-42e6-f67d-3bffb212b872"
      },
      "outputs": [
        {
          "output_type": "stream",
          "name": "stdout",
          "text": [
            "Ingresa una frase \n",
            "Hola, bb\n",
            "La frase ingresa es: Hola, bb \n",
            "\n",
            "Ingresa la palabra que quieras eliminar \n",
            "bb\n",
            "Hola, bb\n"
          ]
        }
      ],
      "source": [
        "Frase = input(\"Ingresa una frase / texto \\n\")\n",
        "\n",
        "Delet = input(\"Ingresa la palabra que quieres eliminar \\n\")\n",
        "\n",
        "New_Fra = Frase.replace(Delet , \"\")\n",
        "\n",
        "print(New_Fra)\n"
      ]
    }
  ]
}