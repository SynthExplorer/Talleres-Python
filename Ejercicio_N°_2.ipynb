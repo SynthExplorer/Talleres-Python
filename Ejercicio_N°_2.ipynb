{
  "nbformat": 4,
  "nbformat_minor": 0,
  "metadata": {
    "colab": {
      "provenance": [],
      "authorship_tag": "ABX9TyMYWbv5/ypJdNRNV6ybsOWt",
      "include_colab_link": true
    },
    "kernelspec": {
      "name": "python3",
      "display_name": "Python 3"
    },
    "language_info": {
      "name": "python"
    }
  },
  "cells": [
    {
      "cell_type": "markdown",
      "metadata": {
        "id": "view-in-github",
        "colab_type": "text"
      },
      "source": [
        "<a href=\"https://colab.research.google.com/github/SynthExplorer/Talleres-Python/blob/main/Ejercicio_N%C2%B0_2.ipynb\" target=\"_parent\"><img src=\"https://colab.research.google.com/assets/colab-badge.svg\" alt=\"Open In Colab\"/></a>"
      ]
    },
    {
      "cell_type": "code",
      "execution_count": 1,
      "metadata": {
        "colab": {
          "base_uri": "https://localhost:8080/"
        },
        "id": "5skadtIR8pkp",
        "outputId": "48b594a9-7848-4c31-c0fb-22ac044d09ba"
      },
      "outputs": [
        {
          "output_type": "stream",
          "name": "stdout",
          "text": [
            "Ingresa un número \n",
            "3\n",
            "El número 3 es impar\n"
          ]
        }
      ],
      "source": [
        "N = (int(input(\"Ingresa un número \\n\")))\n",
        "\n",
        "if N % 2 == 0:\n",
        "  print(f\"El número {N} es par\")\n",
        "else:\n",
        "  print(f\"El número {N} es impar\")\n"
      ]
    }
  ]
}