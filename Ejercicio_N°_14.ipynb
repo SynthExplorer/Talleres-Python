{
  "nbformat": 4,
  "nbformat_minor": 0,
  "metadata": {
    "colab": {
      "provenance": [],
      "authorship_tag": "ABX9TyNbTmIjEMQGEXcDLh5AfjhM",
      "include_colab_link": true
    },
    "kernelspec": {
      "name": "python3",
      "display_name": "Python 3"
    },
    "language_info": {
      "name": "python"
    }
  },
  "cells": [
    {
      "cell_type": "markdown",
      "metadata": {
        "id": "view-in-github",
        "colab_type": "text"
      },
      "source": [
        "<a href=\"https://colab.research.google.com/github/SynthExplorer/Talleres-Python/blob/main/Ejercicio_N%C2%B0_14.ipynb\" target=\"_parent\"><img src=\"https://colab.research.google.com/assets/colab-badge.svg\" alt=\"Open In Colab\"/></a>"
      ]
    },
    {
      "cell_type": "code",
      "execution_count": 33,
      "metadata": {
        "colab": {
          "base_uri": "https://localhost:8080/"
        },
        "id": "AzAVme9-bU6K",
        "outputId": "dc083044-887d-44c4-8f96-3b14d1e7ea53"
      },
      "outputs": [
        {
          "output_type": "stream",
          "name": "stdout",
          "text": [
            "Ingresa el número de matrices que quieras sumar: 2\n",
            "Número de filas para la matriz 1: 2\n",
            "Número de columnas para la matriz 1: 2\n",
            "\n",
            "Elementos para la matriz 1:\n",
            "Elemento en Fila - [1] y Columna [1]: 1\n",
            "Elemento en Fila - [1] y Columna [2]: 2\n",
            "Elemento en Fila - [2] y Columna [1]: 3\n",
            "Elemento en Fila - [2] y Columna [2]: 4\n",
            "Número de filas para la matriz 2: 2\n",
            "Número de columnas para la matriz 2: 2\n",
            "\n",
            "Elementos para la matriz 2:\n",
            "Elemento en Fila - [1] y Columna [1]: 5\n",
            "Elemento en Fila - [1] y Columna [2]: 6\n",
            "Elemento en Fila - [2] y Columna [1]: 7\n",
            "Elemento en Fila - [2] y Columna [2]: 8\n",
            "Matrices:\n",
            "[1, 2]   +   [5, 6]   = [6, 8]\n",
            "[3, 4]   +   [7, 8]   = [10, 12]\n"
          ]
        }
      ],
      "source": [
        "T_M = int(input(\"Ingresa el número de matrices que quieras sumar: \"))\n",
        "\n",
        "while T_M < 2:\n",
        "    print(\"Debes ingresar al menos 2 matrices para realizar la suma.\")\n",
        "    T_M = int(input(\"Intenta nuevamente: \"))\n",
        "\n",
        "Matrices = []\n",
        "\n",
        "for i in range(T_M):\n",
        "    Matriz = []\n",
        "    Filas = int(input(f\"Número de filas para la matriz {i + 1}: \"))\n",
        "    Columnas = int(input(f\"Número de columnas para la matriz {i + 1}: \"))\n",
        "\n",
        "    print(f\"\\nElementos para la matriz {i + 1}:\")\n",
        "\n",
        "    for Fila in range(Filas):\n",
        "        Fila_Mat = []\n",
        "        for Columna in range(Columnas):\n",
        "            Elem = int(input(f\"Elemento en Fila - [{Fila + 1}] y Columna [{Columna + 1}]: \"))\n",
        "            Fila_Mat.append(Elem)\n",
        "        Matriz.append(Fila_Mat)\n",
        "\n",
        "    Matrices.append(Matriz)\n",
        "\n",
        "Resultado = [list(row) for row in Matrices[0]]\n",
        "\n",
        "for i in range(1, T_M):\n",
        "    for Fila in range(len(Resultado)):\n",
        "        for Columna in range(len(Resultado[0])):\n",
        "            Resultado[Fila][Columna] += Matrices[i][Fila][Columna]\n",
        "\n",
        "print(\"Matrices:\")\n",
        "\n",
        "for Fila in range(len(Resultado)):\n",
        "    for i in range(T_M):\n",
        "        matriz = Matrices[i][Fila]\n",
        "        print(f\"{matriz}\", end=\"   \")\n",
        "\n",
        "        if i < T_M - 1:\n",
        "            print(\"+\", end=\"   \")\n",
        "        else:\n",
        "            resultado = Resultado[Fila]\n",
        "            print(f\"= {resultado}\")\n"
      ]
    }
  ]
}